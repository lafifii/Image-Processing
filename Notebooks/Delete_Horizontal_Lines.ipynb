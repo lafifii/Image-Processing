{
  "nbformat": 4,
  "nbformat_minor": 0,
  "metadata": {
    "colab": {
      "name": "Delete_Horizontal_Lines.ipynb",
      "provenance": []
    },
    "kernelspec": {
      "name": "python3",
      "display_name": "Python 3"
    }
  },
  "cells": [
    {
      "cell_type": "code",
      "metadata": {
        "id": "iOk3mBAn3URF",
        "colab_type": "code",
        "colab": {}
      },
      "source": [
        "import cv2\n",
        "import numpy as np\n",
        "import matplotlib.pyplot as plt"
      ],
      "execution_count": 0,
      "outputs": []
    },
    {
      "cell_type": "code",
      "metadata": {
        "id": "bNsBOKHm3XeO",
        "colab_type": "code",
        "colab": {}
      },
      "source": [
        "def change_img(img, umbral):\n",
        "  output = np.zeros((img.shape))\n",
        "  output[img > umbral] = 255\n",
        "  return output"
      ],
      "execution_count": 0,
      "outputs": []
    },
    {
      "cell_type": "code",
      "metadata": {
        "id": "P4l06Wr74Myg",
        "colab_type": "code",
        "colab": {}
      },
      "source": [
        "def show_img(img):\n",
        "  plt.imshow(img, cmap= 'gray')\n",
        "  plt.axis('off')"
      ],
      "execution_count": 0,
      "outputs": []
    },
    {
      "cell_type": "code",
      "metadata": {
        "id": "iqkWwz_z3elP",
        "colab_type": "code",
        "colab": {
          "base_uri": "https://localhost:8080/",
          "height": 117
        },
        "outputId": "af048d1a-f3fc-4949-b4a9-79033dc9a6c5"
      },
      "source": [
        "img = cv2.imread('partitura.png', 0)\n",
        "umbral = 120\n",
        "output = change_img(img, umbral)\n",
        "\n",
        "plt.figure(figsize=(20,40))\n",
        "plt.subplot(1,2,1)\n",
        "show_img(img)\n",
        "plt.subplot(1,2,2)\n",
        "show_img(output)\n",
        "plt.show()"
      ],
      "execution_count": 12,
      "outputs": [
        {
          "output_type": "display_data",
          "data": {
            "image/png": "[encoded data removed]",
            "text/plain": [
              "<Figure size 1440x2880 with 2 Axes>"
            ]
          },
          "metadata": {
            "tags": []
          }
        }
      ]
    },
    {
      "cell_type": "code",
      "metadata": {
        "id": "YHKt-SNo4OxG",
        "colab_type": "code",
        "colab": {}
      },
      "source": [
        "def threshold(img):\n",
        "  return cv2.threshold(img,0 , 255, cv2.THRESH_OTSU + cv2.THRESH_BINARY)"
      ],
      "execution_count": 0,
      "outputs": []
    },
    {
      "cell_type": "code",
      "metadata": {
        "id": "-DJTblHX4dU5",
        "colab_type": "code",
        "colab": {
          "base_uri": "https://localhost:8080/",
          "height": 117
        },
        "outputId": "a444249f-3d8d-43a8-87f3-67ca999d92ec"
      },
      "source": [
        "ret, thres = threshold(img)\n",
        "\n",
        "plt.figure(figsize=(20,40))\n",
        "plt.subplot(1,2,1)\n",
        "show_img(img)\n",
        "plt.subplot(1,2,2)\n",
        "show_img(thres)\n",
        "plt.show()"
      ],
      "execution_count": 15,
      "outputs": [
        {
          "output_type": "display_data",
          "data": {
            "image/png": "[encoded data removed]",
            "text/plain": [
              "<Figure size 1440x2880 with 2 Axes>"
            ]
          },
          "metadata": {
            "tags": []
          }
        }
      ]
    },
    {
      "cell_type": "code",
      "metadata": {
        "id": "4MAaMkOA4fOf",
        "colab_type": "code",
        "colab": {}
      },
      "source": [
        "def erosion(img):\n",
        "  new_img = np.ones((img.shape[0] + 2, img.shape[1] + 2), dtype = np.uint8)\n",
        "  new_img[1:img.shape[0] + 1, 1 : img.shape[1] + 1] = img\n",
        "\n",
        "  output = np.zeros_like(new_img)\n",
        "\n",
        "  for i in range(1, new_img.shape[0] - 1):\n",
        "    for j in range(1, new_img.shape[1] - 1): #delete horizontal lines\n",
        "      if(new_img[i , j] == 255 and new_img[i + 1, j] == 255 and new_img[i - 1, j] == 255):\n",
        "        output[i, j] = 255\n",
        "  \n",
        "  return output[1:img.shape[0] + 1, 1:img.shape[1] + 1]"
      ],
      "execution_count": 0,
      "outputs": []
    },
    {
      "cell_type": "code",
      "metadata": {
        "id": "flIE5X_z4upe",
        "colab_type": "code",
        "colab": {}
      },
      "source": [
        "output = erosion(erosion(255 - thres))\n",
        "output = 255 - output"
      ],
      "execution_count": 0,
      "outputs": []
    },
    {
      "cell_type": "code",
      "metadata": {
        "id": "qS2gHC_i4zxa",
        "colab_type": "code",
        "colab": {
          "base_uri": "https://localhost:8080/",
          "height": 104
        },
        "outputId": "e466d862-c147-4219-b5a1-d9e9247af408"
      },
      "source": [
        "plt.figure(figsize=(10,20))\n",
        "show_img(output)"
      ],
      "execution_count": 58,
      "outputs": [
        {
          "output_type": "display_data",
          "data": {
            "image/png": "[encoded data removed]",
            "text/plain": [
              "<Figure size 720x1440 with 1 Axes>"
            ]
          },
          "metadata": {
            "tags": []
          }
        }
      ]
    },
    {
      "cell_type": "code",
      "metadata": {
        "id": "YZ2wrS1w43VW",
        "colab_type": "code",
        "colab": {}
      },
      "source": [
        ""
      ],
      "execution_count": 0,
      "outputs": []
    }
  ]
}